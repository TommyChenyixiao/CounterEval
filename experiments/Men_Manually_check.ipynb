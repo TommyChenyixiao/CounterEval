{
 "cells": [
  {
   "cell_type": "code",
   "execution_count": 14,
   "metadata": {},
   "outputs": [
    {
     "data": {
      "application/vnd.jupyter.widget-view+json": {
       "model_id": "e36591c0e13e48a8ba67fc466a879272",
       "version_major": 2,
       "version_minor": 0
      },
      "text/plain": [
       "HBox(children=(Button(button_style='info', description='◀️ Previous', style=ButtonStyle()), Button(button_styl…"
      ]
     },
     "metadata": {},
     "output_type": "display_data"
    },
    {
     "data": {
      "application/vnd.jupyter.widget-view+json": {
       "model_id": "c68b7f1cd0504974abb6e1edbec8fcb5",
       "version_major": 2,
       "version_minor": 0
      },
      "text/plain": [
       "HBox(children=(Label(value='ID: 0 | Dataset: men_imbalanced'), ToggleButton(value=False, description='Ball Fly…"
      ]
     },
     "metadata": {},
     "output_type": "display_data"
    },
    {
     "data": {
      "application/vnd.jupyter.widget-view+json": {
       "model_id": "ad3980c4830440b7b6aaf283f112c017",
       "version_major": 2,
       "version_minor": 0
      },
      "text/plain": [
       "HBox(children=(Label(value='ID: 1 | Dataset: men_imbalanced'), ToggleButton(value=False, description='Ball Fly…"
      ]
     },
     "metadata": {},
     "output_type": "display_data"
    },
    {
     "data": {
      "application/vnd.jupyter.widget-view+json": {
       "model_id": "16d08adefcee432db95dd7ab2317b47d",
       "version_major": 2,
       "version_minor": 0
      },
      "text/plain": [
       "HBox(children=(Label(value='ID: 2 | Dataset: men_imbalanced'), ToggleButton(value=False, description='Ball Fly…"
      ]
     },
     "metadata": {},
     "output_type": "display_data"
    },
    {
     "data": {
      "application/vnd.jupyter.widget-view+json": {
       "model_id": "9e431c06bab143e5bdbe6f28a65c8a6c",
       "version_major": 2,
       "version_minor": 0
      },
      "text/plain": [
       "HBox(children=(Label(value='ID: 3 | Dataset: men_imbalanced'), ToggleButton(value=False, description='Ball Fly…"
      ]
     },
     "metadata": {},
     "output_type": "display_data"
    },
    {
     "data": {
      "application/vnd.jupyter.widget-view+json": {
       "model_id": "c76ba485f03b43de87ade99c49e6bc4c",
       "version_major": 2,
       "version_minor": 0
      },
      "text/plain": [
       "HBox(children=(Label(value='ID: 4 | Dataset: men_imbalanced'), ToggleButton(value=False, description='Ball Fly…"
      ]
     },
     "metadata": {},
     "output_type": "display_data"
    },
    {
     "data": {
      "application/vnd.jupyter.widget-view+json": {
       "model_id": "c09888345b09479f8432e38cba8b5adb",
       "version_major": 2,
       "version_minor": 0
      },
      "text/plain": [
       "HBox(children=(Label(value='ID: 5 | Dataset: men_imbalanced'), ToggleButton(value=True, button_style='danger',…"
      ]
     },
     "metadata": {},
     "output_type": "display_data"
    },
    {
     "data": {
      "application/vnd.jupyter.widget-view+json": {
       "model_id": "516b7612cda54608be09590a1a655f6b",
       "version_major": 2,
       "version_minor": 0
      },
      "text/plain": [
       "HBox(children=(Label(value='ID: 6 | Dataset: men_imbalanced'), ToggleButton(value=False, description='Ball Fly…"
      ]
     },
     "metadata": {},
     "output_type": "display_data"
    },
    {
     "data": {
      "application/vnd.jupyter.widget-view+json": {
       "model_id": "431aaaca888f473984a4241d16448a68",
       "version_major": 2,
       "version_minor": 0
      },
      "text/plain": [
       "HBox(children=(Label(value='ID: 7 | Dataset: men_imbalanced'), ToggleButton(value=False, description='Ball Fly…"
      ]
     },
     "metadata": {},
     "output_type": "display_data"
    },
    {
     "data": {
      "application/vnd.jupyter.widget-view+json": {
       "model_id": "dc3238a31eb04591b6740910c7c78846",
       "version_major": 2,
       "version_minor": 0
      },
      "text/plain": [
       "HBox(children=(Label(value='ID: 8 | Dataset: men_imbalanced'), ToggleButton(value=False, description='Ball Fly…"
      ]
     },
     "metadata": {},
     "output_type": "display_data"
    },
    {
     "data": {
      "application/vnd.jupyter.widget-view+json": {
       "model_id": "318817cd742a48b09a5b04d5255b73b3",
       "version_major": 2,
       "version_minor": 0
      },
      "text/plain": [
       "HBox(children=(Label(value='ID: 9 | Dataset: men_imbalanced'), ToggleButton(value=False, description='Ball Fly…"
      ]
     },
     "metadata": {},
     "output_type": "display_data"
    }
   ],
   "source": [
    "import pandas as pd\n",
    "import ipywidgets as widgets\n",
    "from IPython.display import display, clear_output\n",
    "import os\n",
    "\n",
    "# Define the path for the CSV file\n",
    "csv_path = \"experiments/men_manual_check_dataset.csv\"\n",
    "\n",
    "# Check if the CSV file exists; if not, create it with game IDs from 0 to 990\n",
    "if not os.path.exists(csv_path):\n",
    "    print(f\"CSV file '{csv_path}' not found. Creating a new file...\")\n",
    "    data = pd.DataFrame({\n",
    "        \"index\": range(0, 946),\n",
    "        \"dataset_name\": [\"men_imbalanced\"] * 946,\n",
    "        \"ball_flying_issue\": [None] * 946,\n",
    "        \"player_number_issue\": [None] * 946,\n",
    "        \"success_label_issue\": [None] * 946,\n",
    "        \"comments\": [None] * 946,\n",
    "        \"manual_check_passed\": [None] * 946\n",
    "    })\n",
    "    data.to_csv(csv_path, index=False)\n",
    "else:\n",
    "    data = pd.read_csv(csv_path)\n",
    "\n",
    "\n",
    "# Global variables\n",
    "current_start_index = 0\n",
    "rows_per_page = 10\n",
    "\n",
    "# Helper function to create toggle buttons with color feedback\n",
    "def create_issue_buttons(row):\n",
    "\n",
    "    def create_toggle(description, value):\n",
    "        button = widgets.ToggleButton(\n",
    "            value=(value == \"X\"),\n",
    "            description=description,\n",
    "            button_style='danger' if value == \"X\" else ''  # Red if marked with \"X\"\n",
    "        )\n",
    "        button.observe(on_toggle_change, names='value')\n",
    "        return button\n",
    "\n",
    "    buttons = {\n",
    "        \"ball_flying_issue\": create_toggle(\"Ball Flying Issue\", row[\"ball_flying_issue\"]),\n",
    "        \"player_number_issue\": create_toggle(\"Player Number Issue\", row[\"player_number_issue\"]),\n",
    "        \"success_label_issue\": create_toggle(\"Success Label Issue\", row[\"success_label_issue\"]),\n",
    "        \"comments\": widgets.Text(\n",
    "            value=str(row[\"comments\"]) if pd.notna(row[\"comments\"]) else \"\",\n",
    "            placeholder=\"Add comments\"\n",
    "        ),\n",
    "        \"manual_check_passed\": widgets.ToggleButton(\n",
    "            value=(row[\"manual_check_passed\"] == \"Green\"),\n",
    "            description=\"Check Passed\",\n",
    "            button_style='success' if row[\"manual_check_passed\"] == \"Green\" else ''\n",
    "        )\n",
    "    }\n",
    "    buttons[\"manual_check_passed\"].observe(on_manual_check_toggle, names='value')\n",
    "    return buttons\n",
    "\n",
    "# Function to handle the manual check button toggle\n",
    "def on_manual_check_toggle(change):\n",
    "    button = change.owner\n",
    "    if change.new:  # If the button is clicked (value is True)\n",
    "        button.button_style = 'success'\n",
    "        button.value = True\n",
    "    else:  # If clicked again (value is False)\n",
    "        button.button_style = ''\n",
    "        button.value = False\n",
    "\n",
    "# Update button color when toggled for issue buttons\n",
    "def on_toggle_change(change):\n",
    "    button = change.owner\n",
    "    button.button_style = 'danger' if button.value else ''\n",
    "\n",
    "# Store the widgets for the current page\n",
    "widgets_list = []\n",
    "\n",
    "# Function to display rows based on the current index\n",
    "def display_rows():\n",
    "    global widgets_list\n",
    "    widgets_list = []\n",
    "\n",
    "    # Clear previous output\n",
    "    clear_output(wait=True)\n",
    "\n",
    "    # Display navigation and save buttons\n",
    "    display(widgets.HBox([prev_button, next_button, dropdown, save_button]))\n",
    "\n",
    "    # Prepare the rows for display\n",
    "    rows = []\n",
    "    for i in range(current_start_index, min(current_start_index + rows_per_page, len(data))):\n",
    "        row = data.iloc[i]\n",
    "        buttons = create_issue_buttons(row)\n",
    "        widgets_list.append((i, buttons))\n",
    "\n",
    "        label_text = f\"ID: {row['index']} | Dataset: {row['dataset_name']}\"\n",
    "\n",
    "        row_widgets = widgets.HBox([\n",
    "            widgets.Label(label_text),\n",
    "            buttons[\"ball_flying_issue\"],\n",
    "            buttons[\"player_number_issue\"],\n",
    "            buttons[\"success_label_issue\"],\n",
    "            buttons[\"comments\"],\n",
    "            buttons[\"manual_check_passed\"]\n",
    "        ])\n",
    "        rows.append(row_widgets)\n",
    "\n",
    "    # Display the rows\n",
    "    display(*rows)\n",
    "\n",
    "# Function to save annotations for the current page\n",
    "def save_annotations():\n",
    "    for i, buttons in widgets_list:\n",
    "        data.loc[i, \"ball_flying_issue\"] = \"X\" if buttons[\"ball_flying_issue\"].value else None\n",
    "        data.loc[i, \"player_number_issue\"] = \"X\" if buttons[\"player_number_issue\"].value else None\n",
    "        data.loc[i, \"success_label_issue\"] = \"X\" if buttons[\"success_label_issue\"].value else None\n",
    "        data.loc[i, \"comments\"] = buttons[\"comments\"].value\n",
    "        data.loc[i, \"manual_check_passed\"] = \"Green\" if buttons[\"manual_check_passed\"].value else \"Red\"\n",
    "\n",
    "# Button click event handlers\n",
    "def on_next_clicked(b):\n",
    "    global current_start_index\n",
    "    save_annotations()\n",
    "    if current_start_index + rows_per_page < len(data):\n",
    "        current_start_index += rows_per_page\n",
    "    update_dropdown()\n",
    "    display_rows()\n",
    "\n",
    "def on_prev_clicked(b):\n",
    "    global current_start_index\n",
    "    save_annotations()\n",
    "    if current_start_index - rows_per_page >= 0:\n",
    "        current_start_index -= rows_per_page\n",
    "    update_dropdown()\n",
    "    display_rows()\n",
    "\n",
    "def on_dropdown_change(change):\n",
    "    global current_start_index\n",
    "    save_annotations()\n",
    "    current_start_index = change.new * rows_per_page\n",
    "    display_rows()\n",
    "\n",
    "# Initialize navigation and save buttons\n",
    "next_button = widgets.Button(description=\"▶️ Next\", button_style='success')\n",
    "prev_button = widgets.Button(description=\"◀️ Previous\", button_style='info')\n",
    "save_button = widgets.Button(description=\"Save to CSV\", button_style='warning')\n",
    "\n",
    "next_button.on_click(on_next_clicked)\n",
    "prev_button.on_click(on_prev_clicked)\n",
    "save_button.on_click(lambda x: save_to_csv())\n",
    "\n",
    "# Initialize dropdown for ID navigation\n",
    "dropdown = widgets.Dropdown(\n",
    "    options=[(f\"Rows {i}-{i + rows_per_page - 1}\", i // rows_per_page) for i in range(0, len(data), rows_per_page)],\n",
    "    value=0,\n",
    "    description=\"Navigate:\",\n",
    ")\n",
    "dropdown.observe(on_dropdown_change, names='value')\n",
    "\n",
    "# Function to update the dropdown value based on current index\n",
    "def update_dropdown():\n",
    "    dropdown.value = current_start_index // rows_per_page\n",
    "\n",
    "# Function to save the annotated data\n",
    "def save_to_csv():\n",
    "    save_annotations()\n",
    "    data.to_csv(csv_path, index=False)\n",
    "    print(f\"Annotations saved to '{csv_path}'\")\n",
    "\n",
    "# Display initial UI and the first set of rows\n",
    "display(widgets.HBox([prev_button, next_button, dropdown, save_button]))\n",
    "display_rows()\n"
   ]
  },
  {
   "cell_type": "code",
   "execution_count": null,
   "metadata": {},
   "outputs": [],
   "source": []
  }
 ],
 "metadata": {
  "kernelspec": {
   "display_name": "sds625_soccer",
   "language": "python",
   "name": "python3"
  },
  "language_info": {
   "codemirror_mode": {
    "name": "ipython",
    "version": 3
   },
   "file_extension": ".py",
   "mimetype": "text/x-python",
   "name": "python",
   "nbconvert_exporter": "python",
   "pygments_lexer": "ipython3",
   "version": "3.9.20"
  }
 },
 "nbformat": 4,
 "nbformat_minor": 2
}
