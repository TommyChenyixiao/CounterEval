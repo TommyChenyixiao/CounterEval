{
 "cells": [
  {
   "cell_type": "code",
   "execution_count": null,
   "metadata": {},
   "outputs": [
    {
     "data": {
      "application/vnd.jupyter.widget-view+json": {
       "model_id": "5c7dc77f34a145baab1978e642aa6b6b",
       "version_major": 2,
       "version_minor": 0
      },
      "text/plain": [
       "HBox(children=(Button(button_style='info', description='◀️ Previous', style=ButtonStyle()), Button(button_styl…"
      ]
     },
     "metadata": {},
     "output_type": "display_data"
    },
    {
     "data": {
      "application/vnd.jupyter.widget-view+json": {
       "model_id": "8bb55ba205a44635b4d955d4099057cd",
       "version_major": 2,
       "version_minor": 0
      },
      "text/plain": [
       "HBox(children=(Label(value='ID: 10 | Dataset: men_imbalanced'), ToggleButton(value=False, description='Ball Fl…"
      ]
     },
     "metadata": {},
     "output_type": "display_data"
    },
    {
     "data": {
      "application/vnd.jupyter.widget-view+json": {
       "model_id": "8d012138836649de921148baece41624",
       "version_major": 2,
       "version_minor": 0
      },
      "text/plain": [
       "HBox(children=(Label(value='ID: 11 | Dataset: men_imbalanced'), ToggleButton(value=False, description='Ball Fl…"
      ]
     },
     "metadata": {},
     "output_type": "display_data"
    },
    {
     "data": {
      "application/vnd.jupyter.widget-view+json": {
       "model_id": "6cdb75add340486cb7ef158cd2f16405",
       "version_major": 2,
       "version_minor": 0
      },
      "text/plain": [
       "HBox(children=(Label(value='ID: 12 | Dataset: men_imbalanced'), ToggleButton(value=False, description='Ball Fl…"
      ]
     },
     "metadata": {},
     "output_type": "display_data"
    },
    {
     "data": {
      "application/vnd.jupyter.widget-view+json": {
       "model_id": "d5fca6d4086d4699bceb0bb8363982e4",
       "version_major": 2,
       "version_minor": 0
      },
      "text/plain": [
       "HBox(children=(Label(value='ID: 13 | Dataset: men_imbalanced'), ToggleButton(value=False, description='Ball Fl…"
      ]
     },
     "metadata": {},
     "output_type": "display_data"
    },
    {
     "data": {
      "application/vnd.jupyter.widget-view+json": {
       "model_id": "5b6ab48b335244c2a70c00684225f0f9",
       "version_major": 2,
       "version_minor": 0
      },
      "text/plain": [
       "HBox(children=(Label(value='ID: 14 | Dataset: men_imbalanced'), ToggleButton(value=False, description='Ball Fl…"
      ]
     },
     "metadata": {},
     "output_type": "display_data"
    },
    {
     "data": {
      "application/vnd.jupyter.widget-view+json": {
       "model_id": "5684d1bb41394e4b93eaeda4ecc8ba35",
       "version_major": 2,
       "version_minor": 0
      },
      "text/plain": [
       "HBox(children=(Label(value='ID: 15 | Dataset: men_imbalanced'), ToggleButton(value=False, description='Ball Fl…"
      ]
     },
     "metadata": {},
     "output_type": "display_data"
    },
    {
     "data": {
      "application/vnd.jupyter.widget-view+json": {
       "model_id": "eef1cc2e52de469798aa3ad992801dbe",
       "version_major": 2,
       "version_minor": 0
      },
      "text/plain": [
       "HBox(children=(Label(value='ID: 16 | Dataset: men_imbalanced'), ToggleButton(value=False, description='Ball Fl…"
      ]
     },
     "metadata": {},
     "output_type": "display_data"
    },
    {
     "data": {
      "application/vnd.jupyter.widget-view+json": {
       "model_id": "247d442720db4af58a23c0ad2dadd4f1",
       "version_major": 2,
       "version_minor": 0
      },
      "text/plain": [
       "HBox(children=(Label(value='ID: 17 | Dataset: men_imbalanced'), ToggleButton(value=False, description='Ball Fl…"
      ]
     },
     "metadata": {},
     "output_type": "display_data"
    },
    {
     "data": {
      "application/vnd.jupyter.widget-view+json": {
       "model_id": "cbae13e2d7d64e1889ef29f608d39f9f",
       "version_major": 2,
       "version_minor": 0
      },
      "text/plain": [
       "HBox(children=(Label(value='ID: 18 | Dataset: men_imbalanced'), ToggleButton(value=False, description='Ball Fl…"
      ]
     },
     "metadata": {},
     "output_type": "display_data"
    },
    {
     "data": {
      "application/vnd.jupyter.widget-view+json": {
       "model_id": "14b79b5feee044119e1acfdb0b409c1a",
       "version_major": 2,
       "version_minor": 0
      },
      "text/plain": [
       "HBox(children=(Label(value='ID: 19 | Dataset: men_imbalanced'), ToggleButton(value=False, description='Ball Fl…"
      ]
     },
     "metadata": {},
     "output_type": "display_data"
    },
    {
     "name": "stdout",
     "output_type": "stream",
     "text": [
      "Annotations saved to 'men_manual_check_dataset.csv'\n"
     ]
    }
   ],
   "source": [
    "import pandas as pd\n",
    "import ipywidgets as widgets\n",
    "from IPython.display import display, clear_output\n",
    "import os\n",
    "\n",
    "# Define the path for the CSV file\n",
    "csv_path = \"men_manual_check_dataset.csv\"\n",
    "\n",
    "# Check if the CSV file exists; if not, create it with game IDs from 0 to 990\n",
    "if not os.path.exists(csv_path):\n",
    "    print(f\"CSV file '{csv_path}' not found. Creating a new file...\")\n",
    "    data = pd.DataFrame({\n",
    "        \"index\": range(0, 991),\n",
    "        \"dataset_name\": [\"men_imbalanced\"] * 991,\n",
    "        \"ball_flying_issue\": [None] * 991,\n",
    "        \"player_number_issue\": [None] * 991,\n",
    "        \"success_label_issue\": [None] * 991,\n",
    "        \"comments\": [None] * 991,\n",
    "        \"manual_check_passed\": [None] * 991\n",
    "    })\n",
    "    data.to_csv(csv_path, index=False)\n",
    "else:\n",
    "    data = pd.read_csv(csv_path)\n",
    "\n",
    "# Automatically mark missing game IDs with a comment\n",
    "for game_id in missing_game_ids:\n",
    "    if game_id in data['index'].values:\n",
    "        data.loc[data['index'] == game_id, 'comments'] = \"Missing game_id\"\n",
    "\n",
    "# Global variables\n",
    "current_start_index = 0\n",
    "rows_per_page = 10\n",
    "\n",
    "# Helper function to create toggle buttons with color feedback\n",
    "def create_issue_buttons(row):\n",
    "    is_missing = row[\"index\"] in missing_game_ids\n",
    "\n",
    "    def create_toggle(description, value):\n",
    "        button = widgets.ToggleButton(\n",
    "            value=(value == \"X\"),\n",
    "            description=description,\n",
    "            disabled=is_missing,\n",
    "            button_style='danger' if value == \"X\" else ''  # Red if marked with \"X\"\n",
    "        )\n",
    "        button.observe(on_toggle_change, names='value')\n",
    "        return button\n",
    "\n",
    "    buttons = {\n",
    "        \"ball_flying_issue\": create_toggle(\"Ball Flying Issue\", row[\"ball_flying_issue\"]),\n",
    "        \"player_number_issue\": create_toggle(\"Player Number Issue\", row[\"player_number_issue\"]),\n",
    "        \"success_label_issue\": create_toggle(\"Success Label Issue\", row[\"success_label_issue\"]),\n",
    "        \"comments\": widgets.Text(\n",
    "            value=str(row[\"comments\"]) if pd.notna(row[\"comments\"]) else \"\",\n",
    "            placeholder=\"Add comments\",\n",
    "            disabled=is_missing\n",
    "        ),\n",
    "        \"manual_check_passed\": widgets.ToggleButton(\n",
    "            value=(row[\"manual_check_passed\"] == \"Green\"),\n",
    "            description=\"Check Passed\",\n",
    "            button_style='success' if row[\"manual_check_passed\"] == \"Green\" else '',\n",
    "            disabled=is_missing\n",
    "        )\n",
    "    }\n",
    "    buttons[\"manual_check_passed\"].observe(on_manual_check_toggle, names='value')\n",
    "    return buttons\n",
    "\n",
    "# Function to handle the manual check button toggle\n",
    "def on_manual_check_toggle(change):\n",
    "    button = change.owner\n",
    "    if change.new:  # If the button is clicked (value is True)\n",
    "        button.button_style = 'success'\n",
    "        button.value = True\n",
    "    else:  # If clicked again (value is False)\n",
    "        button.button_style = ''\n",
    "        button.value = False\n",
    "\n",
    "# Update button color when toggled for issue buttons\n",
    "def on_toggle_change(change):\n",
    "    button = change.owner\n",
    "    button.button_style = 'danger' if button.value else ''\n",
    "\n",
    "# Store the widgets for the current page\n",
    "widgets_list = []\n",
    "\n",
    "# Function to display rows based on the current index\n",
    "def display_rows():\n",
    "    global widgets_list\n",
    "    widgets_list = []\n",
    "\n",
    "    # Clear previous output\n",
    "    clear_output(wait=True)\n",
    "\n",
    "    # Display navigation and save buttons\n",
    "    display(widgets.HBox([prev_button, next_button, dropdown, save_button]))\n",
    "\n",
    "    # Prepare the rows for display\n",
    "    rows = []\n",
    "    for i in range(current_start_index, min(current_start_index + rows_per_page, len(data))):\n",
    "        row = data.iloc[i]\n",
    "        buttons = create_issue_buttons(row)\n",
    "        widgets_list.append((i, buttons))\n",
    "\n",
    "        label_text = f\"ID: {row['index']} | Dataset: {row['dataset_name']}\"\n",
    "        if row[\"index\"] in missing_game_ids:\n",
    "            label_text += \" (Missing game_id)\"\n",
    "\n",
    "        row_widgets = widgets.HBox([\n",
    "            widgets.Label(label_text),\n",
    "            buttons[\"ball_flying_issue\"],\n",
    "            buttons[\"player_number_issue\"],\n",
    "            buttons[\"success_label_issue\"],\n",
    "            buttons[\"comments\"],\n",
    "            buttons[\"manual_check_passed\"]\n",
    "        ])\n",
    "        rows.append(row_widgets)\n",
    "\n",
    "    # Display the rows\n",
    "    display(*rows)\n",
    "\n",
    "# Function to save annotations for the current page\n",
    "def save_annotations():\n",
    "    for i, buttons in widgets_list:\n",
    "        if data.loc[i, \"index\"] in missing_game_ids:\n",
    "            continue\n",
    "\n",
    "        data.loc[i, \"ball_flying_issue\"] = \"X\" if buttons[\"ball_flying_issue\"].value else None\n",
    "        data.loc[i, \"player_number_issue\"] = \"X\" if buttons[\"player_number_issue\"].value else None\n",
    "        data.loc[i, \"success_label_issue\"] = \"X\" if buttons[\"success_label_issue\"].value else None\n",
    "        data.loc[i, \"comments\"] = buttons[\"comments\"].value\n",
    "        data.loc[i, \"manual_check_passed\"] = \"Green\" if buttons[\"manual_check_passed\"].value else \"Red\"\n",
    "\n",
    "# Button click event handlers\n",
    "def on_next_clicked(b):\n",
    "    global current_start_index\n",
    "    save_annotations()\n",
    "    if current_start_index + rows_per_page < len(data):\n",
    "        current_start_index += rows_per_page\n",
    "    update_dropdown()\n",
    "    display_rows()\n",
    "\n",
    "def on_prev_clicked(b):\n",
    "    global current_start_index\n",
    "    save_annotations()\n",
    "    if current_start_index - rows_per_page >= 0:\n",
    "        current_start_index -= rows_per_page\n",
    "    update_dropdown()\n",
    "    display_rows()\n",
    "\n",
    "def on_dropdown_change(change):\n",
    "    global current_start_index\n",
    "    save_annotations()\n",
    "    current_start_index = change.new * rows_per_page\n",
    "    display_rows()\n",
    "\n",
    "# Initialize navigation and save buttons\n",
    "next_button = widgets.Button(description=\"▶️ Next\", button_style='success')\n",
    "prev_button = widgets.Button(description=\"◀️ Previous\", button_style='info')\n",
    "save_button = widgets.Button(description=\"Save to CSV\", button_style='warning')\n",
    "\n",
    "next_button.on_click(on_next_clicked)\n",
    "prev_button.on_click(on_prev_clicked)\n",
    "save_button.on_click(lambda x: save_to_csv())\n",
    "\n",
    "# Initialize dropdown for ID navigation\n",
    "dropdown = widgets.Dropdown(\n",
    "    options=[(f\"Rows {i}-{i + rows_per_page - 1}\", i // rows_per_page) for i in range(0, len(data), rows_per_page)],\n",
    "    value=0,\n",
    "    description=\"Navigate:\",\n",
    ")\n",
    "dropdown.observe(on_dropdown_change, names='value')\n",
    "\n",
    "# Function to update the dropdown value based on current index\n",
    "def update_dropdown():\n",
    "    dropdown.value = current_start_index // rows_per_page\n",
    "\n",
    "# Function to save the annotated data\n",
    "def save_to_csv():\n",
    "    save_annotations()\n",
    "    data.to_csv(csv_path, index=False)\n",
    "    print(f\"Annotations saved to '{csv_path}'\")\n",
    "\n",
    "# Display initial UI and the first set of rows\n",
    "display(widgets.HBox([prev_button, next_button, dropdown, save_button]))\n",
    "display_rows()\n"
   ]
  },
  {
   "cell_type": "code",
   "execution_count": 14,
   "metadata": {},
   "outputs": [
    {
     "name": "stderr",
     "output_type": "stream",
     "text": [
      "/var/folders/9d/wzfpl93x5zb1rrt2jm2wtp300000gn/T/ipykernel_90416/1212205439.py:15: FutureWarning: DataFrame.applymap has been deprecated. Use DataFrame.map instead.\n",
      "  binary_matrix = data[issue_columns].applymap(lambda x: 1 if x == \"X\" else 0)\n"
     ]
    },
    {
     "data": {
      "image/png": "[encoded data removed]",
      "text/plain": [
       "<Figure size 1200x800 with 2 Axes>"
      ]
     },
     "metadata": {},
     "output_type": "display_data"
    },
    {
     "name": "stdout",
     "output_type": "stream",
     "text": [
      "Mistakes DataFrame:\n",
      "    index    dataset_name ball_flying_issue  player_number_issue  \\\n",
      "2       2  men_imbalanced                 X                  NaN   \n",
      "3       3  men_imbalanced                 X                  NaN   \n",
      "4       4  men_imbalanced               NaN                  NaN   \n",
      "5       5  men_imbalanced                 X                  NaN   \n",
      "6       6  men_imbalanced               NaN                  NaN   \n",
      "8       8  men_imbalanced               NaN                  NaN   \n",
      "9       9  men_imbalanced                 X                  NaN   \n",
      "10     10  men_imbalanced               NaN                  NaN   \n",
      "15     15  men_imbalanced               NaN                  NaN   \n",
      "19     19  men_imbalanced                 X                  NaN   \n",
      "\n",
      "   success_label_issue               comments manual_check_passed  \n",
      "2                    X                    NaN                 Red  \n",
      "3                  NaN  Ball flying potential                 Red  \n",
      "4                    X                    NaN                 Red  \n",
      "5                  NaN                    NaN                 Red  \n",
      "6                    X           not finished                 Red  \n",
      "8                    X                    NaN                 Red  \n",
      "9                  NaN       flying potential                 Red  \n",
      "10                   X                    NaN                 Red  \n",
      "15                   X           not finished                 Red  \n",
      "19                 NaN                    NaN                 Red  \n"
     ]
    }
   ],
   "source": [
    "import pandas as pd\n",
    "import matplotlib.pyplot as plt\n",
    "import seaborn as sns\n",
    "\n",
    "# Load the annotated CSV file\n",
    "csv_path = \"men_manual_check_dataset.csv\"\n",
    "data = pd.read_csv(csv_path)\n",
    "\n",
    "# Define a function to visualize mistakes with a heatmap\n",
    "def visualize_mistakes_heatmap(data):\n",
    "    # Define columns with potential issues\n",
    "    issue_columns = [\"ball_flying_issue\", \"player_number_issue\", \"success_label_issue\"]\n",
    "    \n",
    "    # Create a binary matrix (1 if marked with \"X\", 0 otherwise)\n",
    "    binary_matrix = data[issue_columns].applymap(lambda x: 1 if x == \"X\" else 0)\n",
    "    \n",
    "    # Calculate the sum of issues per game ID\n",
    "    issue_summary = binary_matrix.sum(axis=1)\n",
    "\n",
    "    # Create a heatmap\n",
    "    plt.figure(figsize=(12, 8))\n",
    "    sns.heatmap(binary_matrix.T, cmap=\"Reds\", cbar_kws={'label': 'Issue Marked (1 = X, 0 = OK)'}, linewidths=0.5)\n",
    "    plt.title(\"Heatmap of Marked Issues in Dataset\")\n",
    "    plt.xlabel(\"Game Index\")\n",
    "    plt.ylabel(\"Issue Type\")\n",
    "    plt.xticks(rotation=45)\n",
    "    plt.yticks(rotation=0)\n",
    "    plt.show()\n",
    "\n",
    "    # Print the filtered DataFrame with marked issues\n",
    "    mistakes_df = data[(data[issue_columns] == \"X\").any(axis=1)]\n",
    "    print(\"Mistakes DataFrame:\")\n",
    "    print(mistakes_df)\n",
    "\n",
    "# Call the function\n",
    "visualize_mistakes_heatmap(data)\n"
   ]
  },
  {
   "cell_type": "code",
   "execution_count": null,
   "metadata": {},
   "outputs": [],
   "source": []
  }
 ],
 "metadata": {
  "kernelspec": {
   "display_name": "sds625_soccer",
   "language": "python",
   "name": "python3"
  },
  "language_info": {
   "codemirror_mode": {
    "name": "ipython",
    "version": 3
   },
   "file_extension": ".py",
   "mimetype": "text/x-python",
   "name": "python",
   "nbconvert_exporter": "python",
   "pygments_lexer": "ipython3",
   "version": "3.9.20"
  }
 },
 "nbformat": 4,
 "nbformat_minor": 2
}
