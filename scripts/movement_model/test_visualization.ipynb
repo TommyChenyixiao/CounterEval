{
 "cells": [
  {
   "cell_type": "code",
   "execution_count": 1,
   "id": "5c5f3cc8-7471-4deb-8779-25800a0cba96",
   "metadata": {},
   "outputs": [],
   "source": [
    "import torch\n",
    "import numpy as np\n",
    "import pandas as pd\n",
    "from model import MovementModel\n",
    "from train import process_game"
   ]
  },
  {
   "cell_type": "code",
   "execution_count": 2,
   "id": "a97e31bc-90c8-46cd-a5d6-c65c5aafb465",
   "metadata": {},
   "outputs": [],
   "source": [
    "df = pd.read_parquet(\"../../processed_data/men_imbalanced_node_features_numbered.parquet\")\n",
    "df = df.sort_values(['game_id', 'frame_id', 'player_num_label'])\n",
    "df = df.loc[df[\"att_team\"] != -1]\n",
    "df[\"def_team\"] = 0\n",
    "df[\"off_team\"] = 0\n",
    "df.loc[df[\"att_team\"] == 1, \"off_team\"] = 1\n",
    "df.loc[df[\"att_team\"] == 0, \"def_team\"] = 1\n",
    "df = df.drop(columns=[\"att_team\"])"
   ]
  },
  {
   "cell_type": "code",
   "execution_count": 3,
   "id": "04f47c1d-9587-43c9-ac10-15d533d1d373",
   "metadata": {},
   "outputs": [],
   "source": [
    "df_test = df.loc[df.loc[:, \"game_id\"] == 10]"
   ]
  },
  {
   "cell_type": "code",
   "execution_count": 4,
   "id": "645407c4-3482-4271-a419-0d5d137ee09b",
   "metadata": {},
   "outputs": [],
   "source": [
    "window = None\n",
    "with open(\"./features.txt\", 'r') as f:\n",
    "    features = f.read().splitlines()"
   ]
  },
  {
   "cell_type": "code",
   "execution_count": 5,
   "id": "8ccaadac-b151-4ce5-a419-51b0a02a2c81",
   "metadata": {},
   "outputs": [
    {
     "name": "stderr",
     "output_type": "stream",
     "text": [
      "/var/folders/pf/tk5xdb813879msy13kynrzyr0000gn/T/ipykernel_13664/3872912968.py:2: UserWarning: Creating a tensor from a list of numpy.ndarrays is extremely slow. Please consider converting the list to a single numpy.ndarray with numpy.array() before converting to a tensor. (Triggered internally at /Users/runner/work/pytorch/pytorch/pytorch/torch/csrc/utils/tensor_new.cpp:281.)\n",
      "  Xs = torch.tensor(Xs, dtype=torch.float32)\n"
     ]
    }
   ],
   "source": [
    "Xs, ys = process_game(df_test, window, features)\n",
    "Xs = torch.tensor(Xs, dtype=torch.float32)\n",
    "ys = torch.tensor(ys, dtype=torch.float32)"
   ]
  },
  {
   "cell_type": "code",
   "execution_count": 6,
   "id": "0baabb86-2d09-4c02-983d-e5912e0b0ac4",
   "metadata": {},
   "outputs": [],
   "source": [
    "X_mean = np.load(\"../../models/X_mean.npy\")\n",
    "X_std = np.load(\"../../models/X_std.npy\")\n",
    "y_mean = np.load(\"../../models/y_mean.npy\")\n",
    "y_std = np.load(\"../../models/y_std.npy\")"
   ]
  },
  {
   "cell_type": "code",
   "execution_count": 7,
   "id": "fc7ed7d5-84a3-4a90-a9a3-8cdb4854c597",
   "metadata": {},
   "outputs": [
    {
     "name": "stderr",
     "output_type": "stream",
     "text": [
      "/var/folders/pf/tk5xdb813879msy13kynrzyr0000gn/T/ipykernel_13664/1477219900.py:1: DeprecationWarning: __array_wrap__ must accept context and return_scalar arguments (positionally) in the future. (Deprecated NumPy 2.0)\n",
      "  Xs[:, :, :-3] = (Xs[:, :, :-3] - X_mean) / X_std\n",
      "/var/folders/pf/tk5xdb813879msy13kynrzyr0000gn/T/ipykernel_13664/1477219900.py:2: DeprecationWarning: __array_wrap__ must accept context and return_scalar arguments (positionally) in the future. (Deprecated NumPy 2.0)\n",
      "  ys = (ys - y_mean) / y_std\n"
     ]
    }
   ],
   "source": [
    "Xs[:, :, :-3] = (Xs[:, :, :-3] - X_mean) / X_std\n",
    "ys = (ys - y_mean) / y_std"
   ]
  },
  {
   "cell_type": "code",
   "execution_count": 8,
   "id": "6b445716-24d8-4377-8678-58655747c773",
   "metadata": {},
   "outputs": [
    {
     "name": "stderr",
     "output_type": "stream",
     "text": [
      "/Users/qflovesy/miniconda3/envs/sds625_soccer/lib/python3.9/site-packages/torch/nn/modules/transformer.py:379: UserWarning: enable_nested_tensor is True, but self.use_nested_tensor is False because encoder_layer.self_attn.batch_first was not True(use batch_first for better inference performance)\n",
      "  warnings.warn(\n",
      "/var/folders/pf/tk5xdb813879msy13kynrzyr0000gn/T/ipykernel_13664/4205737320.py:3: FutureWarning: You are using `torch.load` with `weights_only=False` (the current default value), which uses the default pickle module implicitly. It is possible to construct malicious pickle data which will execute arbitrary code during unpickling (See https://github.com/pytorch/pytorch/blob/main/SECURITY.md#untrusted-models for more details). In a future release, the default value for `weights_only` will be flipped to `True`. This limits the functions that could be executed during unpickling. Arbitrary objects will no longer be allowed to be loaded via this mode unless they are explicitly allowlisted by the user via `torch.serialization.add_safe_globals`. We recommend you start setting `weights_only=True` for any use case where you don't have full control of the loaded file. Please open an issue on GitHub for any issues related to this experimental feature.\n",
      "  model.load_state_dict(torch.load(\"../../models/checkpoint_21.pt\"))\n"
     ]
    },
    {
     "data": {
      "text/plain": [
       "<All keys matched successfully>"
      ]
     },
     "execution_count": 8,
     "metadata": {},
     "output_type": "execute_result"
    }
   ],
   "source": [
    "context_dim = Xs[0].shape[-1]\n",
    "model = MovementModel(2, context_dim, 2, 1, 2)\n",
    "model.load_state_dict(torch.load(\"../../models/checkpoint_21.pt\"))"
   ]
  },
  {
   "cell_type": "code",
   "execution_count": 9,
   "id": "2dbd2cf2-57c5-4c27-bbd0-9c3ad6feac15",
   "metadata": {},
   "outputs": [
    {
     "data": {
      "text/plain": [
       "MovementModel(\n",
       "  (cvae): cVAE(\n",
       "    (fc1): Linear(in_features=12, out_features=512, bias=True)\n",
       "    (fc21): Linear(in_features=512, out_features=2, bias=True)\n",
       "    (fc22): Linear(in_features=512, out_features=2, bias=True)\n",
       "    (fc3): Linear(in_features=12, out_features=512, bias=True)\n",
       "    (fc4): Linear(in_features=512, out_features=2, bias=True)\n",
       "    (elu): ELU(alpha=1.0)\n",
       "  )\n",
       "  (transformer): Transformer(\n",
       "    (encoder): TransformerEncoder(\n",
       "      (layers): ModuleList(\n",
       "        (0-1): 2 x TransformerEncoderLayer(\n",
       "          (self_attn): MultiheadAttention(\n",
       "            (out_proj): NonDynamicallyQuantizableLinear(in_features=10, out_features=10, bias=True)\n",
       "          )\n",
       "          (linear1): Linear(in_features=10, out_features=2048, bias=True)\n",
       "          (dropout): Dropout(p=0.1, inplace=False)\n",
       "          (linear2): Linear(in_features=2048, out_features=10, bias=True)\n",
       "          (norm1): LayerNorm((10,), eps=1e-05, elementwise_affine=True)\n",
       "          (norm2): LayerNorm((10,), eps=1e-05, elementwise_affine=True)\n",
       "          (dropout1): Dropout(p=0.1, inplace=False)\n",
       "          (dropout2): Dropout(p=0.1, inplace=False)\n",
       "        )\n",
       "      )\n",
       "    )\n",
       "  )\n",
       ")"
      ]
     },
     "execution_count": 9,
     "metadata": {},
     "output_type": "execute_result"
    }
   ],
   "source": [
    "model.eval()"
   ]
  },
  {
   "cell_type": "code",
   "execution_count": 10,
   "id": "5a5e9c08-3caf-40bf-9c3e-823c02b6d836",
   "metadata": {},
   "outputs": [
    {
     "name": "stderr",
     "output_type": "stream",
     "text": [
      "/var/folders/pf/tk5xdb813879msy13kynrzyr0000gn/T/ipykernel_13664/2106325804.py:2: UserWarning: To copy construct from a tensor, it is recommended to use sourceTensor.clone().detach() or sourceTensor.clone().detach().requires_grad_(True), rather than torch.tensor(sourceTensor).\n",
      "  Xs, ys = torch.tensor(Xs, dtype=torch.float32), torch.tensor(ys, dtype=torch.float32)\n"
     ]
    }
   ],
   "source": [
    "device = \"mps\"\n",
    "Xs, ys = torch.tensor(Xs, dtype=torch.float32), torch.tensor(ys, dtype=torch.float32)\n",
    "model.to(device)\n",
    "Xs = Xs.to(device)\n",
    "ys = ys.to(device)\n",
    "with torch.no_grad():\n",
    "    # Sampling\n",
    "    trials = 1000\n",
    "    prior_pred = []\n",
    "    for _ in range(trials):\n",
    "        eps = torch.randn(Xs.shape[0], Xs.shape[1], 2)\n",
    "        eps = eps.to(device)\n",
    "        recon_loc = model.decode(eps, Xs)\n",
    "        prior_pred.append(recon_loc)"
   ]
  },
  {
   "cell_type": "code",
   "execution_count": 11,
   "id": "b15d984f-d7f7-4626-83d5-6d5f677fc4ca",
   "metadata": {},
   "outputs": [],
   "source": [
    "prior_pred = [arr.cpu().numpy() for arr in prior_pred]\n",
    "prior_pred = np.stack(prior_pred, axis=0)"
   ]
  },
  {
   "cell_type": "code",
   "execution_count": 12,
   "id": "fcff8c9b-2a9a-4373-82f7-20318b433246",
   "metadata": {},
   "outputs": [],
   "source": [
    "import matplotlib.pyplot as plt\n",
    "from scipy.stats import gaussian_kde"
   ]
  },
  {
   "cell_type": "code",
   "execution_count": 18,
   "id": "62da13ea-6ad9-450f-b08d-06f7b6208374",
   "metadata": {},
   "outputs": [
    {
     "data": {
      "image/png": "[encoded data removed]",
      "text/plain": [
       "<Figure size 800x600 with 1 Axes>"
      ]
     },
     "metadata": {},
     "output_type": "display_data"
    }
   ],
   "source": [
    "frame_id = 90\n",
    "player_id = 18\n",
    "test_point = prior_pred[:, frame_id, player_id, :] * y_std + y_mean\n",
    "actual_point = ys[frame_id, player_id, :].cpu().numpy() * y_std + y_mean\n",
    "\n",
    "x_pred = test_point[:, 0]\n",
    "y_pred = test_point[:, 1]\n",
    "\n",
    "# Create a Gaussian KDE for density estimation\n",
    "# kde = gaussian_kde(test_point.T)\n",
    "\n",
    "# # Define grid for contour plot\n",
    "# x_min, x_max = x_pred.min() - 1, x_pred.max() + 1\n",
    "# y_min, y_max = y_pred.min() - 1, y_pred.max() + 1\n",
    "# x_grid, y_grid = np.meshgrid(np.linspace(x_min, x_max, 100), np.linspace(y_min, y_max, 100))\n",
    "# density = kde(np.vstack([x_grid.ravel(), y_grid.ravel()])).reshape(x_grid.shape)\n",
    "\n",
    "# Plotting\n",
    "plt.figure(figsize=(8, 6))\n",
    "# plt.contourf(x_grid, y_grid, density, levels=30, cmap='Blues')\n",
    "# plt.colorbar(label='Density')\n",
    "plt.scatter(x_pred, y_pred, s=10, color='gray', alpha=0.5, label='Predicted Points')\n",
    "plt.scatter(actual_point[0], actual_point[1], color='red', label='Actual Point', zorder=5)\n",
    "plt.title(\"2D Density (Contour) Plot with Actual Point\")\n",
    "plt.xlabel(\"X Coordinate\")\n",
    "plt.ylabel(\"Y Coordinate\")\n",
    "plt.legend()\n",
    "plt.show()"
   ]
  },
  {
   "cell_type": "code",
   "execution_count": 19,
   "id": "22398f6b-5677-44b8-af6a-42b32def3bbf",
   "metadata": {},
   "outputs": [
    {
     "data": {
      "text/plain": [
       "10"
      ]
     },
     "execution_count": 19,
     "metadata": {},
     "output_type": "execute_result"
    }
   ],
   "source": [
    "context_dim"
   ]
  },
  {
   "cell_type": "code",
   "execution_count": 23,
   "id": "7075e225-b749-4845-98a0-f629cb29c982",
   "metadata": {},
   "outputs": [],
   "source": [
    "Xs_test = np.load(\"../../processed_data/Xs_test.npy\")"
   ]
  },
  {
   "cell_type": "code",
   "execution_count": 26,
   "id": "085cf4a5",
   "metadata": {},
   "outputs": [
    {
     "data": {
      "text/plain": [
       "(19581, 22, 7)"
      ]
     },
     "execution_count": 26,
     "metadata": {},
     "output_type": "execute_result"
    }
   ],
   "source": [
    "Xs_test[:, :, :-3].shape"
   ]
  },
  {
   "cell_type": "code",
   "execution_count": null,
   "id": "3cc995cd",
   "metadata": {},
   "outputs": [],
   "source": []
  }
 ],
 "metadata": {
  "kernelspec": {
   "display_name": "sds625_soccer",
   "language": "python",
   "name": "python3"
  },
  "language_info": {
   "codemirror_mode": {
    "name": "ipython",
    "version": 3
   },
   "file_extension": ".py",
   "mimetype": "text/x-python",
   "name": "python",
   "nbconvert_exporter": "python",
   "pygments_lexer": "ipython3",
   "version": "3.9.20"
  }
 },
 "nbformat": 4,
 "nbformat_minor": 5
}
